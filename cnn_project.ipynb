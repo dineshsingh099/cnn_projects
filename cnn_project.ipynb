{
 "cells": [
  {
   "cell_type": "code",
   "execution_count": 1,
   "metadata": {},
   "outputs": [
    {
     "name": "stderr",
     "output_type": "stream",
     "text": [
      "2024-07-20 19:27:25.034774: I tensorflow/tsl/cuda/cudart_stub.cc:28] Could not find cuda drivers on your machine, GPU will not be used.\n",
      "2024-07-20 19:27:25.430124: I tensorflow/tsl/cuda/cudart_stub.cc:28] Could not find cuda drivers on your machine, GPU will not be used.\n",
      "2024-07-20 19:27:25.432629: I tensorflow/core/platform/cpu_feature_guard.cc:182] This TensorFlow binary is optimized to use available CPU instructions in performance-critical operations.\n",
      "To enable the following instructions: AVX2 FMA, in other operations, rebuild TensorFlow with the appropriate compiler flags.\n",
      "2024-07-20 19:27:27.096353: W tensorflow/compiler/tf2tensorrt/utils/py_utils.cc:38] TF-TRT Warning: Could not find TensorRT\n"
     ]
    }
   ],
   "source": [
    "import pandas as pd\n",
    "import numpy as np\n",
    "\n",
    "import tensorflow as tf\n",
    "\n",
    "from keras.models import Model\n",
    "\n",
    "from keras.layers import Input, Conv2D,Flatten,Dense\n",
    "from keras.applications import VGG16\n"
   ]
  },
  {
   "cell_type": "code",
   "execution_count": 2,
   "metadata": {},
   "outputs": [],
   "source": [
    "def Multiclass_cnn():\n",
    "    input_to_cnn = Input(shape=(32,32,1))\n",
    "    first_conv_out = Conv2D(filters=50,kernel_size=(3,3),activation=\"relu\")(input_to_cnn)\n",
    "    second_conv_out = Conv2D(filters=100,kernel_size=(5,5),padding=\"same\",strides=(2,2))(first_conv_out)\n",
    "    input_feature_vector = Flatten()(second_conv_out)\n",
    "    output = Dense(units=46,activation=\"softmax\")(input_feature_vector)\n",
    "\n",
    "    return Model(inputs=[input_to_cnn],outputs=[output])"
   ]
  },
  {
   "cell_type": "code",
   "execution_count": 3,
   "metadata": {},
   "outputs": [],
   "source": [
    "model = Multiclass_cnn()"
   ]
  },
  {
   "cell_type": "code",
   "execution_count": 4,
   "metadata": {},
   "outputs": [
    {
     "name": "stdout",
     "output_type": "stream",
     "text": [
      "Model: \"model\"\n",
      "_________________________________________________________________\n",
      " Layer (type)                Output Shape              Param #   \n",
      "=================================================================\n",
      " input_1 (InputLayer)        [(None, 32, 32, 1)]       0         \n",
      "                                                                 \n",
      " conv2d (Conv2D)             (None, 30, 30, 50)        500       \n",
      "                                                                 \n",
      " conv2d_1 (Conv2D)           (None, 15, 15, 100)       125100    \n",
      "                                                                 \n",
      " flatten (Flatten)           (None, 22500)             0         \n",
      "                                                                 \n",
      " dense (Dense)               (None, 46)                1035046   \n",
      "                                                                 \n",
      "=================================================================\n",
      "Total params: 1160646 (4.43 MB)\n",
      "Trainable params: 1160646 (4.43 MB)\n",
      "Non-trainable params: 0 (0.00 Byte)\n",
      "_________________________________________________________________\n"
     ]
    }
   ],
   "source": [
    "model.summary()"
   ]
  },
  {
   "cell_type": "code",
   "execution_count": null,
   "metadata": {},
   "outputs": [],
   "source": []
  }
 ],
 "metadata": {
  "kernelspec": {
   "display_name": ".venv",
   "language": "python",
   "name": "python3"
  },
  "language_info": {
   "codemirror_mode": {
    "name": "ipython",
    "version": 3
   },
   "file_extension": ".py",
   "mimetype": "text/x-python",
   "name": "python",
   "nbconvert_exporter": "python",
   "pygments_lexer": "ipython3",
   "version": "3.10.12"
  }
 },
 "nbformat": 4,
 "nbformat_minor": 2
}
